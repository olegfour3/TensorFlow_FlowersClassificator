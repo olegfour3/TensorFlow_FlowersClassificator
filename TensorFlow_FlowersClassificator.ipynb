{
  "nbformat": 4,
  "nbformat_minor": 0,
  "metadata": {
    "colab": {
      "provenance": []
    },
    "kernelspec": {
      "name": "python3",
      "display_name": "Python 3"
    },
    "language_info": {
      "name": "python"
    }
  },
  "cells": [
    {
      "cell_type": "code",
      "execution_count": null,
      "metadata": {
        "id": "t_vko1CdMdcG"
      },
      "outputs": [],
      "source": [
        "!pip list"
      ]
    },
    {
      "cell_type": "code",
      "source": [
        "import pathlib\n",
        "\n",
        "import matplotlib.pyplot as plt\n",
        "import numpy as np\n",
        "import PIL\n",
        "import tensorflow as tf\n",
        "\n",
        "from tensorflow import keras\n",
        "from tensorflow.keras import layers\n",
        "from tensorflow.keras.models import Sequential"
      ],
      "metadata": {
        "id": "uS-MUrJcNkO9"
      },
      "execution_count": 2,
      "outputs": []
    },
    {
      "cell_type": "markdown",
      "source": [
        "# Load dataset\n"
      ],
      "metadata": {
        "id": "IqrYv-5oPh22"
      }
    },
    {
      "cell_type": "code",
      "source": [
        "ds_dir = pathlib.Path(\"datasets/flowers/\")"
      ],
      "metadata": {
        "id": "quwvC2NQPxb9"
      },
      "execution_count": 1,
      "outputs": []
    },
    {
      "cell_type": "markdown",
      "source": [
        "or"
      ],
      "metadata": {
        "id": "-zhF7z40QIwY"
      }
    },
    {
      "cell_type": "code",
      "source": [
        "import pathlib\n",
        "\n",
        "ds_url = \"https://storage.googleapis.com/download.tensorflow.org/example_images/flower_photos.tgz\"\n",
        "ds_file = tf.keras.utils.get_file('flower_photos.tar', origin=ds_url, extract=True)\n",
        "ds_dir = pathlib.Path(ds_file).with_suffix('')"
      ],
      "metadata": {
        "colab": {
          "base_uri": "https://localhost:8080/"
        },
        "id": "Sf3DhTrWP8Q8",
        "outputId": "e455db47-fbc1-4175-ba8e-47f29b624f0a"
      },
      "execution_count": 3,
      "outputs": [
        {
          "output_type": "stream",
          "name": "stdout",
          "text": [
            "Downloading data from https://storage.googleapis.com/download.tensorflow.org/example_images/flower_photos.tgz\n",
            "228813984/228813984 [==============================] - 8s 0us/step\n"
          ]
        }
      ]
    },
    {
      "cell_type": "markdown",
      "source": [
        "# Working with DS"
      ],
      "metadata": {
        "id": "HtkGocqSSS36"
      }
    },
    {
      "cell_type": "code",
      "source": [
        "image_count = len(list(ds_dir.glob(\"*/*.jpg\")))\n",
        "print(f\"Image count: {image_count}\")"
      ],
      "metadata": {
        "colab": {
          "base_uri": "https://localhost:8080/"
        },
        "id": "ofkLWl2RSWoy",
        "outputId": "a85af529-af39-4985-d544-f56d5f14480d"
      },
      "execution_count": 4,
      "outputs": [
        {
          "output_type": "stream",
          "name": "stdout",
          "text": [
            "Image count: 3670\n"
          ]
        }
      ]
    },
    {
      "cell_type": "code",
      "source": [
        "batch_size = 32\n",
        "img_height, img_width = 180, 180\n",
        "img_size = (img_height, img_width)"
      ],
      "metadata": {
        "id": "yS5UkIpcTsHk"
      },
      "execution_count": 5,
      "outputs": []
    },
    {
      "cell_type": "markdown",
      "source": [
        "Create training DS"
      ],
      "metadata": {
        "id": "U0ZmGvzOUqgf"
      }
    },
    {
      "cell_type": "code",
      "source": [
        "train_ds = tf.keras.utils.image_dataset_from_directory(\n",
        "    directory=ds_dir,\n",
        "    validation_split=0.2,\n",
        "    subset='training',\n",
        "    seed=123,\n",
        "    image_size=img_size,\n",
        "    batch_size=batch_size\n",
        ")"
      ],
      "metadata": {
        "colab": {
          "base_uri": "https://localhost:8080/"
        },
        "id": "YnzjGWkEUwao",
        "outputId": "54715243-c483-4b98-fbdc-33012be93325"
      },
      "execution_count": 6,
      "outputs": [
        {
          "output_type": "stream",
          "name": "stdout",
          "text": [
            "Found 3670 files belonging to 5 classes.\n",
            "Using 2936 files for training.\n"
          ]
        }
      ]
    },
    {
      "cell_type": "code",
      "source": [
        "class_names = train_ds.class_names\n",
        "print(f\"Class names: {class_names}\")"
      ],
      "metadata": {
        "colab": {
          "base_uri": "https://localhost:8080/"
        },
        "id": "yGjUnvYGWS33",
        "outputId": "4b345bc7-5f75-4eb1-f095-e308a9bb086b"
      },
      "execution_count": 7,
      "outputs": [
        {
          "output_type": "stream",
          "name": "stdout",
          "text": [
            "Class names: ['daisy', 'dandelion', 'roses', 'sunflowers', 'tulips']\n"
          ]
        }
      ]
    },
    {
      "cell_type": "markdown",
      "source": [
        "Create validation DS"
      ],
      "metadata": {
        "id": "Ouv8lt9HV764"
      }
    },
    {
      "cell_type": "code",
      "source": [
        "val_ds = tf.keras.utils.image_dataset_from_directory(\n",
        "    directory=ds_dir,\n",
        "    validation_split=0.2,\n",
        "    subset='validation',\n",
        "    seed=123,\n",
        "    image_size=img_size,\n",
        "    batch_size=batch_size\n",
        ")"
      ],
      "metadata": {
        "colab": {
          "base_uri": "https://localhost:8080/"
        },
        "id": "P1ffx89cV_u3",
        "outputId": "06421364-4daf-4c79-9dab-964e4d00896a"
      },
      "execution_count": 8,
      "outputs": [
        {
          "output_type": "stream",
          "name": "stdout",
          "text": [
            "Found 3670 files belonging to 5 classes.\n",
            "Using 734 files for validation.\n"
          ]
        }
      ]
    },
    {
      "cell_type": "markdown",
      "source": [
        "Caching"
      ],
      "metadata": {
        "id": "Bzg-7up1YDsH"
      }
    },
    {
      "cell_type": "code",
      "source": [
        "AUTOTUNE = tf.data.AUTOTUNE\n",
        "train_ds = train_ds.cache().shuffle(1000).prefetch(buffer_size=AUTOTUNE)\n",
        "val_ds = val_ds.cache().prefetch(buffer_size=AUTOTUNE)"
      ],
      "metadata": {
        "id": "cfn8oNpNYHGT"
      },
      "execution_count": 12,
      "outputs": []
    },
    {
      "cell_type": "markdown",
      "source": [
        "Create model"
      ],
      "metadata": {
        "id": "dTaa2W1Lb-7o"
      }
    },
    {
      "cell_type": "code",
      "source": [
        "from keras.api._v2.keras import activations\n",
        "num_classes = len(class_names)\n",
        "model = Sequential([\n",
        "    layers.experimental.preprocessing.Rescaling(1./255, input_shape=(img_height, img_width, 3)),\n",
        "\n",
        "    layers.Conv2D(16, 3, padding='same', activation='relu'),\n",
        "    layers.MaxPooling2D(),\n",
        "\n",
        "    layers.Conv2D(32, 3, padding='same', activation='relu'),\n",
        "    layers.MaxPooling2D(),\n",
        "\n",
        "    layers.Conv2D(64, 3, padding='same', activation='relu'),\n",
        "    layers.MaxPooling2D(),\n",
        "\n",
        "    layers.Flatten(),\n",
        "    layers.Dense(128, activation='relu'),\n",
        "    layers.Dense(num_classes)\n",
        "])"
      ],
      "metadata": {
        "id": "ISagX3UocA4p"
      },
      "execution_count": 13,
      "outputs": []
    },
    {
      "cell_type": "markdown",
      "source": [
        "Compile model"
      ],
      "metadata": {
        "id": "NqrD3cbQdd05"
      }
    },
    {
      "cell_type": "code",
      "source": [
        "model.compile(\n",
        "    optimizer='adam',\n",
        "    loss=tf.keras.losses.SparseCategoricalCrossentropy(from_logits=True),\n",
        "    metrics=['accuracy']\n",
        ")"
      ],
      "metadata": {
        "id": "Xjm8EcjWdgxe"
      },
      "execution_count": 14,
      "outputs": []
    },
    {
      "cell_type": "markdown",
      "source": [
        "Print model summary"
      ],
      "metadata": {
        "id": "MeFzjPXdeAz6"
      }
    },
    {
      "cell_type": "code",
      "source": [
        "model.summary()"
      ],
      "metadata": {
        "colab": {
          "base_uri": "https://localhost:8080/"
        },
        "id": "yQiBwwOVeCyw",
        "outputId": "894b23e2-f9cd-4cdc-b04b-ffb08b9e8e4a"
      },
      "execution_count": 15,
      "outputs": [
        {
          "output_type": "stream",
          "name": "stdout",
          "text": [
            "Model: \"sequential\"\n",
            "_________________________________________________________________\n",
            " Layer (type)                Output Shape              Param #   \n",
            "=================================================================\n",
            " rescaling (Rescaling)       (None, 180, 180, 3)       0         \n",
            "                                                                 \n",
            " conv2d (Conv2D)             (None, 180, 180, 16)      448       \n",
            "                                                                 \n",
            " max_pooling2d (MaxPooling2D  (None, 90, 90, 16)       0         \n",
            " )                                                               \n",
            "                                                                 \n",
            " conv2d_1 (Conv2D)           (None, 90, 90, 32)        4640      \n",
            "                                                                 \n",
            " max_pooling2d_1 (MaxPooling  (None, 45, 45, 32)       0         \n",
            " 2D)                                                             \n",
            "                                                                 \n",
            " conv2d_2 (Conv2D)           (None, 45, 45, 64)        18496     \n",
            "                                                                 \n",
            " max_pooling2d_2 (MaxPooling  (None, 22, 22, 64)       0         \n",
            " 2D)                                                             \n",
            "                                                                 \n",
            " flatten (Flatten)           (None, 30976)             0         \n",
            "                                                                 \n",
            " dense (Dense)               (None, 128)               3965056   \n",
            "                                                                 \n",
            " dense_1 (Dense)             (None, 5)                 645       \n",
            "                                                                 \n",
            "=================================================================\n",
            "Total params: 3,989,285\n",
            "Trainable params: 3,989,285\n",
            "Non-trainable params: 0\n",
            "_________________________________________________________________\n"
          ]
        }
      ]
    },
    {
      "cell_type": "markdown",
      "source": [
        "# Train model"
      ],
      "metadata": {
        "id": "2bfPsbHdg2UN"
      }
    },
    {
      "cell_type": "code",
      "source": [
        "epochs = 10\n",
        "history = model.fit(\n",
        "    train_ds,\n",
        "    validation_data=val_ds,\n",
        "    epochs=epochs\n",
        ")"
      ],
      "metadata": {
        "colab": {
          "base_uri": "https://localhost:8080/"
        },
        "id": "0OazwieKg4Tj",
        "outputId": "4717ccad-6064-43cb-ffc6-d233bdefc1b9"
      },
      "execution_count": 17,
      "outputs": [
        {
          "output_type": "stream",
          "name": "stdout",
          "text": [
            "Epoch 1/10\n",
            "92/92 [==============================] - 119s 1s/step - loss: 1.4259 - accuracy: 0.4063 - val_loss: 1.1611 - val_accuracy: 0.5218\n",
            "Epoch 2/10\n",
            "92/92 [==============================] - 106s 1s/step - loss: 1.0651 - accuracy: 0.5766 - val_loss: 1.0409 - val_accuracy: 0.6049\n",
            "Epoch 3/10\n",
            "92/92 [==============================] - 104s 1s/step - loss: 0.8740 - accuracy: 0.6594 - val_loss: 0.9059 - val_accuracy: 0.6499\n",
            "Epoch 4/10\n",
            "92/92 [==============================] - 108s 1s/step - loss: 0.6808 - accuracy: 0.7493 - val_loss: 0.9401 - val_accuracy: 0.6567\n",
            "Epoch 5/10\n",
            "92/92 [==============================] - 106s 1s/step - loss: 0.4679 - accuracy: 0.8290 - val_loss: 1.1787 - val_accuracy: 0.6308\n",
            "Epoch 6/10\n",
            "92/92 [==============================] - 107s 1s/step - loss: 0.3248 - accuracy: 0.8883 - val_loss: 1.1201 - val_accuracy: 0.6403\n",
            "Epoch 7/10\n",
            "92/92 [==============================] - 109s 1s/step - loss: 0.1603 - accuracy: 0.9486 - val_loss: 1.4745 - val_accuracy: 0.6308\n",
            "Epoch 8/10\n",
            "92/92 [==============================] - 109s 1s/step - loss: 0.1125 - accuracy: 0.9666 - val_loss: 1.7227 - val_accuracy: 0.5640\n",
            "Epoch 9/10\n",
            "92/92 [==============================] - 114s 1s/step - loss: 0.1100 - accuracy: 0.9673 - val_loss: 1.6757 - val_accuracy: 0.6226\n",
            "Epoch 10/10\n",
            "92/92 [==============================] - 108s 1s/step - loss: 0.0587 - accuracy: 0.9837 - val_loss: 1.8097 - val_accuracy: 0.6403\n"
          ]
        }
      ]
    },
    {
      "cell_type": "markdown",
      "source": [
        "Visualize training and validation results"
      ],
      "metadata": {
        "id": "2Y44EvvBhVBh"
      }
    },
    {
      "cell_type": "code",
      "source": [
        "# visualize training and validation results\n",
        "acc = history.history['accuracy']\n",
        "val_acc = history.history['val_accuracy']\n",
        "\n",
        "loss = history.history['loss']\n",
        "val_loss = history.history['val_loss']\n",
        "\n",
        "epochs_range = range(epochs)\n",
        "\n",
        "plt.figure(figsize=(8, 8))\n",
        "plt.subplot(1, 2, 1)\n",
        "plt.plot(epochs_range, acc, label='Training Accuracy')\n",
        "plt.plot(epochs_range, val_acc, label='Validation Accuracy')\n",
        "plt.legend(loc='lower right')\n",
        "plt.title('Training and Validation Accuracy')\n",
        "\n",
        "plt.subplot(1, 2, 2)\n",
        "plt.plot(epochs_range, loss, label='Training Loss')\n",
        "plt.plot(epochs_range, val_loss, label='Validation Loss')\n",
        "plt.legend(loc='upper right')\n",
        "plt.title('Training and Validation Loss')\n",
        "plt.show()"
      ],
      "metadata": {
        "colab": {
          "base_uri": "https://localhost:8080/",
          "height": 699
        },
        "id": "TEwJLb4OhdjF",
        "outputId": "a6018eeb-f03c-48f3-b20e-933dc7213465"
      },
      "execution_count": 18,
      "outputs": [
        {
          "output_type": "display_data",
          "data": {
            "text/plain": [
              "<Figure size 800x800 with 2 Axes>"
            ],
            "image/png": "[encoded data removed]"
          },
          "metadata": {}
        }
      ]
    },
    {
      "cell_type": "markdown",
      "source": [
        "# Solving the problem of overfitting"
      ],
      "metadata": {
        "id": "IKqULiTultt7"
      }
    },
    {
      "cell_type": "markdown",
      "source": [
        "Adding augmentation and regularization (Dropout)"
      ],
      "metadata": {
        "id": "ciE3fZ4xmRAy"
      }
    },
    {
      "cell_type": "code",
      "source": [
        "model = Sequential([\n",
        "\tlayers.experimental.preprocessing.Rescaling(1./255, input_shape=(img_height, img_width, 3)),\n",
        "\n",
        "\t# augmentation\n",
        "\tlayers.experimental.preprocessing.RandomFlip(\"horizontal\", input_shape=(img_height, img_width, 3)),\n",
        "\tlayers.experimental.preprocessing.RandomRotation(0.1),\n",
        "\tlayers.experimental.preprocessing.RandomZoom(0.1),\n",
        "\tlayers.experimental.preprocessing.RandomContrast(0.2),\n",
        "\n",
        "\tlayers.Conv2D(16, 3, padding='same', activation='relu'),\n",
        "\tlayers.MaxPooling2D(),\n",
        "\n",
        "\tlayers.Conv2D(32, 3, padding='same', activation='relu'),\n",
        "\tlayers.MaxPooling2D(),\n",
        "\n",
        "\tlayers.Conv2D(64, 3, padding='same', activation='relu'),\n",
        "\tlayers.MaxPooling2D(),\n",
        "\n",
        "\t# regularization\n",
        "\tlayers.Dropout(0.2),\n",
        "\n",
        "\tlayers.Flatten(),\n",
        "\tlayers.Dense(128, activation='relu'),\n",
        "\tlayers.Dense(num_classes)\n",
        "])\n",
        "\n",
        "# compile the model\n",
        "model.compile(\n",
        "\toptimizer='adam',\n",
        "\tloss=tf.keras.losses.SparseCategoricalCrossentropy(from_logits=True),\n",
        "\tmetrics=['accuracy'])\n",
        "\n",
        "# print model summary\n",
        "model.summary()"
      ],
      "metadata": {
        "colab": {
          "base_uri": "https://localhost:8080/"
        },
        "id": "lVdsqspElxTZ",
        "outputId": "27634685-1601-40b6-fe33-489f9a2f4fa6"
      },
      "execution_count": 19,
      "outputs": [
        {
          "output_type": "stream",
          "name": "stdout",
          "text": [
            "Model: \"sequential_1\"\n",
            "_________________________________________________________________\n",
            " Layer (type)                Output Shape              Param #   \n",
            "=================================================================\n",
            " rescaling_1 (Rescaling)     (None, 180, 180, 3)       0         \n",
            "                                                                 \n",
            " random_flip (RandomFlip)    (None, 180, 180, 3)       0         \n",
            "                                                                 \n",
            " random_rotation (RandomRota  (None, 180, 180, 3)      0         \n",
            " tion)                                                           \n",
            "                                                                 \n",
            " random_zoom (RandomZoom)    (None, 180, 180, 3)       0         \n",
            "                                                                 \n",
            " random_contrast (RandomCont  (None, 180, 180, 3)      0         \n",
            " rast)                                                           \n",
            "                                                                 \n",
            " conv2d_3 (Conv2D)           (None, 180, 180, 16)      448       \n",
            "                                                                 \n",
            " max_pooling2d_3 (MaxPooling  (None, 90, 90, 16)       0         \n",
            " 2D)                                                             \n",
            "                                                                 \n",
            " conv2d_4 (Conv2D)           (None, 90, 90, 32)        4640      \n",
            "                                                                 \n",
            " max_pooling2d_4 (MaxPooling  (None, 45, 45, 32)       0         \n",
            " 2D)                                                             \n",
            "                                                                 \n",
            " conv2d_5 (Conv2D)           (None, 45, 45, 64)        18496     \n",
            "                                                                 \n",
            " max_pooling2d_5 (MaxPooling  (None, 22, 22, 64)       0         \n",
            " 2D)                                                             \n",
            "                                                                 \n",
            " dropout (Dropout)           (None, 22, 22, 64)        0         \n",
            "                                                                 \n",
            " flatten_1 (Flatten)         (None, 30976)             0         \n",
            "                                                                 \n",
            " dense_2 (Dense)             (None, 128)               3965056   \n",
            "                                                                 \n",
            " dense_3 (Dense)             (None, 5)                 645       \n",
            "                                                                 \n",
            "=================================================================\n",
            "Total params: 3,989,285\n",
            "Trainable params: 3,989,285\n",
            "Non-trainable params: 0\n",
            "_________________________________________________________________\n"
          ]
        }
      ]
    },
    {
      "cell_type": "markdown",
      "source": [
        "Retraining the neural network with new layers and more training epochs"
      ],
      "metadata": {
        "id": "UVsRGb72mncf"
      }
    },
    {
      "cell_type": "code",
      "source": [
        "# train the model\n",
        "epochs = 20\n",
        "history = model.fit(\n",
        "\ttrain_ds,\n",
        "\tvalidation_data=val_ds,\n",
        "\tepochs=epochs)"
      ],
      "metadata": {
        "colab": {
          "base_uri": "https://localhost:8080/"
        },
        "id": "TiqCILAOmu-K",
        "outputId": "1d735a6b-37d3-4750-f534-29ffe6e401fb"
      },
      "execution_count": 20,
      "outputs": [
        {
          "output_type": "stream",
          "name": "stdout",
          "text": [
            "Epoch 1/20\n",
            "92/92 [==============================] - 128s 1s/step - loss: 1.4134 - accuracy: 0.4019 - val_loss: 1.2007 - val_accuracy: 0.4850\n",
            "Epoch 2/20\n",
            "92/92 [==============================] - 122s 1s/step - loss: 1.1149 - accuracy: 0.5559 - val_loss: 1.0118 - val_accuracy: 0.5804\n",
            "Epoch 3/20\n",
            "92/92 [==============================] - 118s 1s/step - loss: 0.9983 - accuracy: 0.6073 - val_loss: 0.9644 - val_accuracy: 0.6294\n",
            "Epoch 4/20\n",
            "92/92 [==============================] - 122s 1s/step - loss: 0.9453 - accuracy: 0.6407 - val_loss: 0.9312 - val_accuracy: 0.6281\n",
            "Epoch 5/20\n",
            "92/92 [==============================] - 119s 1s/step - loss: 0.8746 - accuracy: 0.6563 - val_loss: 0.8721 - val_accuracy: 0.6580\n",
            "Epoch 6/20\n",
            "92/92 [==============================] - 124s 1s/step - loss: 0.8126 - accuracy: 0.6931 - val_loss: 0.8589 - val_accuracy: 0.6403\n",
            "Epoch 7/20\n",
            "92/92 [==============================] - 123s 1s/step - loss: 0.7790 - accuracy: 0.7084 - val_loss: 0.8421 - val_accuracy: 0.6798\n",
            "Epoch 8/20\n",
            "92/92 [==============================] - 123s 1s/step - loss: 0.7495 - accuracy: 0.7183 - val_loss: 0.7696 - val_accuracy: 0.7084\n",
            "Epoch 9/20\n",
            "92/92 [==============================] - 124s 1s/step - loss: 0.7302 - accuracy: 0.7197 - val_loss: 0.7446 - val_accuracy: 0.6989\n",
            "Epoch 10/20\n",
            "92/92 [==============================] - 123s 1s/step - loss: 0.6989 - accuracy: 0.7285 - val_loss: 0.7403 - val_accuracy: 0.6989\n",
            "Epoch 11/20\n",
            "92/92 [==============================] - 121s 1s/step - loss: 0.6558 - accuracy: 0.7517 - val_loss: 0.8104 - val_accuracy: 0.7003\n",
            "Epoch 12/20\n",
            "92/92 [==============================] - 122s 1s/step - loss: 0.6488 - accuracy: 0.7439 - val_loss: 0.7672 - val_accuracy: 0.6812\n",
            "Epoch 13/20\n",
            "92/92 [==============================] - 123s 1s/step - loss: 0.6149 - accuracy: 0.7643 - val_loss: 0.7129 - val_accuracy: 0.7330\n",
            "Epoch 14/20\n",
            "92/92 [==============================] - 123s 1s/step - loss: 0.6049 - accuracy: 0.7681 - val_loss: 0.7764 - val_accuracy: 0.6935\n",
            "Epoch 15/20\n",
            "92/92 [==============================] - 123s 1s/step - loss: 0.5746 - accuracy: 0.7847 - val_loss: 0.6696 - val_accuracy: 0.7398\n",
            "Epoch 16/20\n",
            "92/92 [==============================] - 123s 1s/step - loss: 0.5487 - accuracy: 0.7929 - val_loss: 0.6812 - val_accuracy: 0.7330\n",
            "Epoch 17/20\n",
            "92/92 [==============================] - 123s 1s/step - loss: 0.5301 - accuracy: 0.8018 - val_loss: 0.7577 - val_accuracy: 0.7057\n",
            "Epoch 18/20\n",
            "92/92 [==============================] - 124s 1s/step - loss: 0.4986 - accuracy: 0.8099 - val_loss: 0.6777 - val_accuracy: 0.7439\n",
            "Epoch 19/20\n",
            "92/92 [==============================] - 121s 1s/step - loss: 0.5036 - accuracy: 0.8154 - val_loss: 0.7464 - val_accuracy: 0.7411\n",
            "Epoch 20/20\n",
            "92/92 [==============================] - 120s 1s/step - loss: 0.4873 - accuracy: 0.8222 - val_loss: 0.7562 - val_accuracy: 0.7398\n"
          ]
        }
      ]
    },
    {
      "cell_type": "code",
      "source": [
        "# visualize training and validation results\n",
        "acc = history.history['accuracy']\n",
        "val_acc = history.history['val_accuracy']\n",
        "\n",
        "loss = history.history['loss']\n",
        "val_loss = history.history['val_loss']\n",
        "\n",
        "epochs_range = range(epochs)\n",
        "\n",
        "plt.figure(figsize=(8, 8))\n",
        "plt.subplot(1, 2, 1)\n",
        "plt.plot(epochs_range, acc, label='Training Accuracy')\n",
        "plt.plot(epochs_range, val_acc, label='Validation Accuracy')\n",
        "plt.legend(loc='lower right')\n",
        "plt.title('Training and Validation Accuracy')\n",
        "\n",
        "plt.subplot(1, 2, 2)\n",
        "plt.plot(epochs_range, loss, label='Training Loss')\n",
        "plt.plot(epochs_range, val_loss, label='Validation Loss')\n",
        "plt.legend(loc='upper right')\n",
        "plt.title('Training and Validation Loss')\n",
        "plt.show()"
      ],
      "metadata": {
        "colab": {
          "base_uri": "https://localhost:8080/",
          "height": 699
        },
        "id": "VFx8uIMMm1p6",
        "outputId": "bdffbc6f-1c08-4831-d0c6-247c062fda5c"
      },
      "execution_count": 21,
      "outputs": [
        {
          "output_type": "display_data",
          "data": {
            "text/plain": [
              "<Figure size 800x800 with 2 Axes>"
            ],
            "image/png": "[encoded data removed]"
          },
          "metadata": {}
        }
      ]
    },
    {
      "cell_type": "markdown",
      "source": [
        "# Making inference on a new image"
      ],
      "metadata": {
        "id": "tLM10FBLn-xn"
      }
    },
    {
      "cell_type": "markdown",
      "source": [
        "Load model if need (NOT WORKING, NEED FINISHING)"
      ],
      "metadata": {
        "id": "GMqxln_2sUsT"
      }
    },
    {
      "cell_type": "code",
      "source": [
        "# load model\n",
        "model.load_weights(\"TF_FlowersClassificationModel\")\n",
        "\n",
        "loss, acc = model.evaluate(train_ds, verbose=2)\n",
        "print(\"Restored model, accurasy: {:5.2f}%\".format(100 * acc))"
      ],
      "metadata": {
        "id": "gb472TU7qmgO"
      },
      "execution_count": null,
      "outputs": []
    },
    {
      "cell_type": "markdown",
      "source": [
        "Model test"
      ],
      "metadata": {
        "id": "4tIFw-V0sb_v"
      }
    },
    {
      "cell_type": "code",
      "source": [
        "# load image\n",
        "flower_url = \"https://storage.googleapis.com/download.tensorflow.org/example_images/592px-Red_sunflower.jpg\" # sunflower"
      ],
      "metadata": {
        "id": "gICwNlgUtBk0"
      },
      "execution_count": 22,
      "outputs": []
    },
    {
      "cell_type": "markdown",
      "source": [
        "or"
      ],
      "metadata": {
        "id": "PXPQ4UCrte8Q"
      }
    },
    {
      "cell_type": "code",
      "source": [
        "flower_url = \"https://uralsad74.ru/upload/iblock/8f8/rhujuj5ubqfhdy1n3hdarop2k2ccd0nr.jpg\" #"
      ],
      "metadata": {
        "id": "JaJgHy8DtgQH"
      },
      "execution_count": 28,
      "outputs": []
    },
    {
      "cell_type": "code",
      "source": [
        "flower_path = tf.keras.utils.get_file('flower2', origin=flower_url)\n",
        "\n",
        "img = tf.keras.utils.load_img(\n",
        "    flower_path, target_size=img_size\n",
        ")\n",
        "img_array = tf.keras.utils.img_to_array(img)\n",
        "img_array = tf.expand_dims(img_array, 0)"
      ],
      "metadata": {
        "colab": {
          "base_uri": "https://localhost:8080/"
        },
        "id": "9W0vWus9tbq4",
        "outputId": "6a279c1e-b41d-4007-ce51-d3db88b059b0"
      },
      "execution_count": 29,
      "outputs": [
        {
          "output_type": "stream",
          "name": "stdout",
          "text": [
            "Downloading data from https://uralsad74.ru/upload/iblock/8f8/rhujuj5ubqfhdy1n3hdarop2k2ccd0nr.jpg\n",
            "263662/263662 [==============================] - 1s 3us/step\n"
          ]
        }
      ]
    },
    {
      "cell_type": "code",
      "source": [
        "# make predictions\n",
        "predictions = model.predict(img_array)\n",
        "score = tf.nn.softmax(predictions[0])\n",
        "\n",
        "# print inference result\n",
        "print(\"Image contains '{}' ({:.2f}% probability)\".format(\n",
        "\tclass_names[np.argmax(score)],\n",
        "\t100 * np.max(score))\n",
        ")\n",
        "\n",
        "# show the image itself\n",
        "img.show()"
      ],
      "metadata": {
        "colab": {
          "base_uri": "https://localhost:8080/"
        },
        "id": "b9BXjWUYoAFd",
        "outputId": "300c43de-f83e-4e3b-82a2-e64e45202dfa"
      },
      "execution_count": 30,
      "outputs": [
        {
          "output_type": "stream",
          "name": "stdout",
          "text": [
            "1/1 [==============================] - 0s 34ms/step\n",
            "Image contains 'roses' (97.00% probability)\n"
          ]
        }
      ]
    },
    {
      "cell_type": "markdown",
      "source": [
        "# Export model file (download to your computer)"
      ],
      "metadata": {
        "id": "lrYEnITAoLYp"
      }
    },
    {
      "cell_type": "code",
      "source": [
        "from google.colab import files\n",
        "\n",
        "model_file_name = \"TF_FlowersClassificationModel.h5\"\n",
        "\n",
        "# save model\n",
        "model.save(model_file_name)\n",
        "\n",
        "# download model\n",
        "files.download(model_file_name)"
      ],
      "metadata": {
        "colab": {
          "base_uri": "https://localhost:8080/",
          "height": 17
        },
        "id": "C0L7BLy2oP4o",
        "outputId": "4acd7553-d42e-4792-ea6f-baa3a8a31e79"
      },
      "execution_count": 31,
      "outputs": [
        {
          "output_type": "display_data",
          "data": {
            "text/plain": [
              "<IPython.core.display.Javascript object>"
            ],
            "application/javascript": [
              "\n",
              "    async function download(id, filename, size) {\n",
              "      if (!google.colab.kernel.accessAllowed) {\n",
              "        return;\n",
              "      }\n",
              "      const div = document.createElement('div');\n",
              "      const label = document.createElement('label');\n",
              "      label.textContent = `Downloading \"${filename}\": `;\n",
              "      div.appendChild(label);\n",
              "      const progress = document.createElement('progress');\n",
              "      progress.max = size;\n",
              "      div.appendChild(progress);\n",
              "      document.body.appendChild(div);\n",
              "\n",
              "      const buffers = [];\n",
              "      let downloaded = 0;\n",
              "\n",
              "      const channel = await google.colab.kernel.comms.open(id);\n",
              "      // Send a message to notify the kernel that we're ready.\n",
              "      channel.send({})\n",
              "\n",
              "      for await (const message of channel.messages) {\n",
              "        // Send a message to notify the kernel that we're ready.\n",
              "        channel.send({})\n",
              "        if (message.buffers) {\n",
              "          for (const buffer of message.buffers) {\n",
              "            buffers.push(buffer);\n",
              "            downloaded += buffer.byteLength;\n",
              "            progress.value = downloaded;\n",
              "          }\n",
              "        }\n",
              "      }\n",
              "      const blob = new Blob(buffers, {type: 'application/binary'});\n",
              "      const a = document.createElement('a');\n",
              "      a.href = window.URL.createObjectURL(blob);\n",
              "      a.download = filename;\n",
              "      div.appendChild(a);\n",
              "      a.click();\n",
              "      div.remove();\n",
              "    }\n",
              "  "
            ]
          },
          "metadata": {}
        },
        {
          "output_type": "display_data",
          "data": {
            "text/plain": [
              "<IPython.core.display.Javascript object>"
            ],
            "application/javascript": [
              "download(\"download_106e09bd-a8fd-4b5e-b583-9923441e210d\", \"TF_FlowersClassificationModel.h5\", 47930088)"
            ]
          },
          "metadata": {}
        }
      ]
    }
  ]
}